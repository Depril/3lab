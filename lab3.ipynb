{
 "cells": [
  {
   "cell_type": "code",
   "execution_count": 1,
   "metadata": {},
   "outputs": [],
   "source": [
    "import re"
   ]
  },
  {
   "cell_type": "code",
   "execution_count": 7,
   "metadata": {},
   "outputs": [
    {
     "name": "stdout",
     "output_type": "stream",
     "text": [
      "Input the html file name: \n",
      "3lab_example.html\n",
      "['ilya@zholkovsky.com', 'trtr@yandex.ru', 'tudutudu@mail.com', 'one_piece@gmail.com', 'ilya.zholkovsky@gmail.com']\n"
     ]
    }
   ],
   "source": [
    "with open(input(\"Input the html file name: \\n\"), \"r\") as ht:\n",
    "    arr = re.findall(r\"([a-z0-9\\.\\_\\-]+@[a-z0-9\\_\\-]+\\.[a-z0-9\\_\\-]+)\", ht.read(), flags=re.IGNORECASE)\n",
    "print(arr)"
   ]
  },
  {
   "cell_type": "code",
   "execution_count": null,
   "metadata": {},
   "outputs": [],
   "source": []
  }
 ],
 "metadata": {
  "kernelspec": {
   "display_name": "Python 3",
   "language": "python",
   "name": "python3"
  },
  "language_info": {
   "codemirror_mode": {
    "name": "ipython",
    "version": 3
   },
   "file_extension": ".py",
   "mimetype": "text/x-python",
   "name": "python",
   "nbconvert_exporter": "python",
   "pygments_lexer": "ipython3",
   "version": "3.9.0"
  }
 },
 "nbformat": 4,
 "nbformat_minor": 4
}
